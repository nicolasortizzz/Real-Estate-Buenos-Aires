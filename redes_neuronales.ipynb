{
 "cells": [
  {
   "cell_type": "code",
   "execution_count": 5,
   "metadata": {},
   "outputs": [],
   "source": [
    "import pandas as pd\n",
    "import numpy as np\n",
    "import random as rd \n",
    "import matplotlib.pyplot as plt\n",
    "%matplotlib inline \n",
    "import seaborn as sns\n",
    "import sklearn as sk\n",
    "import statsmodels.stats.api as sms \n",
    "from scipy import stats\n",
    "import statsmodels.api as sm\n",
    "import altair as alt\n",
    "import plotly as px\n",
    "import tensorflow as tf"
   ]
  },
  {
   "cell_type": "code",
   "execution_count": 90,
   "metadata": {},
   "outputs": [],
   "source": [
    "df = pd.read_csv(\"D:/Nico@ThisHost/OneDrive/Documentos/NICOLAS/Data Science fundamentos/DATA SETS/regresion/realstateBSAS.csv\")"
   ]
  },
  {
   "cell_type": "code",
   "execution_count": 91,
   "metadata": {},
   "outputs": [],
   "source": [
    "# Convertir las fechas a datetime y convertir los errores a NaT\n",
    "df[\"start_date\"] = pd.to_datetime(df[\"start_date\"], format=\"%Y-%m-%d\", errors=\"coerce\")\n",
    "df[\"end_date\"] = pd.to_datetime(df[\"end_date\"], format=\"%Y-%m-%d\", errors=\"coerce\")\n",
    "\n",
    "# Limpiando valores repetidos\n",
    "df.drop_duplicates(inplace=True)\n",
    "\n",
    "# Cambiandole el nombre a columnas para mejorar legible.\n",
    "df.rename(columns={'l2': 'zona', 'l3': 'localidad'}, inplace=True)"
   ]
  },
  {
   "cell_type": "code",
   "execution_count": 92,
   "metadata": {},
   "outputs": [],
   "source": [
    "# Limpio localidades residenciales sin baños.\n",
    "df = df[~((df['property_type'].isin(['Departamento', 'Casa', 'Casa de campo', 'PH'])) & (df['bathrooms'].isna()))]\n",
    "\n",
    "# Dropeo los registros cuya superficie total sea nula.\n",
    "df = df.dropna(subset=['surface_total'])\n",
    "\n",
    "# Dropeo los registros cuya superficie cubierta sea nula.\n",
    "df = df.dropna(subset=['surface_covered'])\n",
    "\n",
    "# Dropeo registros donde no se espesifica el tipo de propiedad.\n",
    "df = df[df.property_type != \"Otro\"]"
   ]
  },
  {
   "cell_type": "code",
   "execution_count": 93,
   "metadata": {},
   "outputs": [],
   "source": [
    "# Dropeo la variable currency ya que en la unica variable en la que se publica es en USD\n",
    "df = df.drop(columns=\"currency\")"
   ]
  },
  {
   "cell_type": "code",
   "execution_count": 94,
   "metadata": {},
   "outputs": [],
   "source": [
    "# Precio metro cuadrado\n",
    "df[\"pm2\"] = df[\"price\"] / df[\"surface_total\"]"
   ]
  },
  {
   "cell_type": "code",
   "execution_count": 95,
   "metadata": {},
   "outputs": [],
   "source": [
    "# Limipando valor atipico sin sentido en pm2.\n",
    "df = df[df['pm2'] <= 25000]\n",
    "df = df[df['pm2'] >= 400]\n",
    "# Limipando valor atipico sin sentido en bathrooms.\n",
    "df = df[df.bathrooms<8]\n",
    "# Limipando valor atipico sin sentido en rooms.\n",
    "df = df[df.rooms<15]\n",
    "# Limipando valor atipico sin sentido en surface_total.\n",
    "df = df[df.surface_total<2500]"
   ]
  },
  {
   "cell_type": "markdown",
   "metadata": {},
   "source": [
    "EDA MACHINE LEARNING"
   ]
  },
  {
   "cell_type": "code",
   "execution_count": 41,
   "metadata": {},
   "outputs": [],
   "source": [
    "# creando variables dummies para cada registro segun al barrio al que pertenece.\n",
    "dummies = pd.get_dummies(df.localidad)\n",
    "dummies = dummies.replace({True: 1, False: 0})\n",
    "\n",
    "# Creando variables dummies para cada registro segun el tipo de propiedad que es.\n",
    "dummies1= pd.get_dummies(df.property_type)\n",
    "dummies1 = dummies1.replace({True: 1, False: 0})"
   ]
  },
  {
   "cell_type": "code",
   "execution_count": 96,
   "metadata": {},
   "outputs": [],
   "source": [
    "# Creando df con valores numericos.\n",
    "df_numeric = df.select_dtypes(include=[\"int64\", \"float64\"])\n",
    "df_numeric = df_numeric.drop(columns=[\"lon\",\"lat\",\"bedrooms\",\"surface_covered\"])"
   ]
  },
  {
   "cell_type": "code",
   "execution_count": 48,
   "metadata": {},
   "outputs": [],
   "source": [
    "# uniendo las variables dummies al data frame\n",
    "df2 = pd.concat([df_numeric,dummies],axis=\"columns\")\n",
    "df1 = pd.concat([df2,dummies1],axis=\"columns\")"
   ]
  },
  {
   "cell_type": "code",
   "execution_count": 97,
   "metadata": {},
   "outputs": [],
   "source": [
    "df3 = df_numeric.sample(frac=0.2, random_state=1)"
   ]
  },
  {
   "cell_type": "code",
   "execution_count": 98,
   "metadata": {},
   "outputs": [
    {
     "name": "stdout",
     "output_type": "stream",
     "text": [
      "columna: rooms\n",
      "Estadistico: 0.0019805395391474523\n",
      "P-valor: 0.9999992046128507\n",
      "------------------------------------\n",
      "columna: bathrooms\n",
      "Estadistico: 0.0033932838003946086\n",
      "P-valor: 0.9794536966984135\n",
      "------------------------------------\n",
      "columna: surface_total\n",
      "Estadistico: 0.002892022981046183\n",
      "P-valor: 0.9970088022704089\n",
      "------------------------------------\n",
      "columna: price\n",
      "Estadistico: 0.002933282782812241\n",
      "P-valor: 0.9963510777616057\n",
      "------------------------------------\n",
      "columna: pm2\n",
      "Estadistico: 0.005772969715442056\n",
      "P-valor: 0.5428191659355017\n",
      "------------------------------------\n"
     ]
    }
   ],
   "source": [
    "# Prueba de distribucion, gracias por el regalo muy util\n",
    "from scipy.stats import ks_2samp\n",
    "\n",
    "columnas_numericas_datos = df1.select_dtypes(include=\"number\").columns\n",
    "columnas_numericas_muestra = df3.select_dtypes(include = \"number\").columns\n",
    "\n",
    "for columna_datos, columna_muestra in zip(columnas_numericas_datos,columnas_numericas_muestra):\n",
    "    stadistic, p_value = ks_2samp(df1[columna_datos], df3[columna_muestra])\n",
    "    print(f\"columna: {columna_datos}\")\n",
    "    print(f\"Estadistico: {stadistic}\") # cuanto mas chico mejor\n",
    "    print(f\"P-valor: {p_value}\")    # El p valor tiene que ser mayor a 0,05 para pasar la prueba de que son distintos.\n",
    "    print(f\"------------------------------------\")"
   ]
  },
  {
   "cell_type": "code",
   "execution_count": 99,
   "metadata": {},
   "outputs": [],
   "source": [
    "# Creando variables X e y.\n",
    "X = df3.drop(\"price\",axis=\"columns\")\n",
    "y = df3.price"
   ]
  },
  {
   "cell_type": "code",
   "execution_count": null,
   "metadata": {},
   "outputs": [],
   "source": [
    "# Creando grupo de entrenamiento.\n",
    "from sklearn.model_selection import train_test_split\n",
    "X_train, X_test, y_train, y_test = train_test_split(X, y, test_size=0.2, random_state=10)\n",
    "train_df = X_train.join(y_train)# Creando grupo de entrenamiento."
   ]
  },
  {
   "cell_type": "markdown",
   "metadata": {},
   "source": [
    "REDES NEURONALES"
   ]
  },
  {
   "cell_type": "code",
   "execution_count": 100,
   "metadata": {},
   "outputs": [
    {
     "name": "stderr",
     "output_type": "stream",
     "text": [
      "C:\\Users\\nicon\\AppData\\Local\\Packages\\PythonSoftwareFoundation.Python.3.12_qbz5n2kfra8p0\\LocalCache\\local-packages\\Python312\\site-packages\\keras\\src\\layers\\core\\dense.py:88: UserWarning: Do not pass an `input_shape`/`input_dim` argument to a layer. When using Sequential models, prefer using an `Input(shape)` object as the first layer in the model instead.\n",
      "  super().__init__(activity_regularizer=activity_regularizer, **kwargs)\n"
     ]
    }
   ],
   "source": [
    "capa_entrada = tf.keras.layers.Dense(units=4, input_shape=[4])\n",
    "capa_oculta = tf.keras.layers.Dense(units=4)\n",
    "capa_salida = tf.keras.layers.Dense(units=1)"
   ]
  },
  {
   "cell_type": "code",
   "execution_count": 101,
   "metadata": {},
   "outputs": [],
   "source": [
    "modelo = tf.keras.Sequential([capa_entrada,capa_oculta,capa_salida])"
   ]
  },
  {
   "cell_type": "code",
   "execution_count": 102,
   "metadata": {},
   "outputs": [],
   "source": [
    "modelo.compile(\n",
    "    optimizer = tf.keras.optimizers.Adam(0.1),\n",
    "    loss = \"mean_squared_error\"\n",
    ")"
   ]
  },
  {
   "cell_type": "code",
   "execution_count": 103,
   "metadata": {},
   "outputs": [
    {
     "name": "stdout",
     "output_type": "stream",
     "text": [
      " Inicio de entrenamiento...\n",
      "modelo entrenado\n"
     ]
    }
   ],
   "source": [
    "print(\" Inicio de entrenamiento...\")\n",
    "historial = modelo.fit(X, y, epochs=1000, verbose= False)\n",
    "print(\"modelo entrenado\")"
   ]
  },
  {
   "cell_type": "code",
   "execution_count": 104,
   "metadata": {},
   "outputs": [
    {
     "data": {
      "image/png": "[encoded data removed]",
      "text/plain": [
       "<Figure size 640x480 with 1 Axes>"
      ]
     },
     "metadata": {},
     "output_type": "display_data"
    }
   ],
   "source": [
    "plt.xlabel(\"#epoca\")\n",
    "plt.ylabel(\"magnitud de perdida\")\n",
    "plt.plot(historial.history[\"loss\"])\n",
    "plt.show()"
   ]
  },
  {
   "cell_type": "code",
   "execution_count": 105,
   "metadata": {},
   "outputs": [
    {
     "name": "stderr",
     "output_type": "stream",
     "text": [
      "WARNING:absl:You are saving your model as an HDF5 file via `model.save()` or `keras.saving.save_model(model)`. This file format is considered legacy. We recommend using instead the native Keras format, e.g. `model.save('my_model.keras')` or `keras.saving.save_model(model, 'my_model.keras')`. \n"
     ]
    }
   ],
   "source": [
    "modelo.save(\"RealEstate.h5\")"
   ]
  },
  {
   "cell_type": "code",
   "execution_count": 136,
   "metadata": {},
   "outputs": [],
   "source": [
    "import pandas as pd\n",
    "from sklearn.model_selection import train_test_split\n",
    "from sklearn.preprocessing import StandardScaler\n",
    "from tensorflow.keras.models import Sequential\n",
    "from tensorflow.keras.layers import Dense\n",
    "\n",
    "def predict_price(rooms, bathrooms, surface_total, pm2, model):\n",
    "    \"\"\"\n",
    "    Predicts the price of a property based on given features and a trained model,\n",
    "    ensuring the minimum price is 12,000 and positive.\n",
    "\n",
    "    Args:\n",
    "        rooms (int): Number of rooms in the property.\n",
    "        bathrooms (int): Number of bathrooms in the property.\n",
    "        surface_total (float): Total surface area of the property.\n",
    "        pm2 (float): Additional property-specific value (replace with your actual value).\n",
    "        model (tf.keras.Model): Trained Keras model for price prediction.\n",
    "\n",
    "    Returns:\n",
    "        float: Predicted price of the property (minimum 12,000 and positive).\n",
    "    \"\"\"\n",
    "\n",
    "    # Create a DataFrame with the provided features\n",
    "    data = pd.DataFrame({\n",
    "        \"rooms\": [rooms],\n",
    "        \"bathrooms\": [bathrooms],\n",
    "        \"surface_total\": [surface_total],\n",
    "        \"pm2\": [pm2],\n",
    "    })\n",
    "\n",
    "    # Predict price using the trained model\n",
    "    predicted_price = model.predict(data)[0][0]\n",
    "\n",
    "    # Enforce minimum price of 12,000 and positive value\n",
    "    predicted_price = max(12000, predicted_price)  # Ensures minimum of 12,000\n",
    "    predicted_price = abs(predicted_price)  # Ensures positive value\n",
    "\n",
    "    return predicted_price"
   ]
  },
  {
   "cell_type": "code",
   "execution_count": 139,
   "metadata": {},
   "outputs": [
    {
     "name": "stdout",
     "output_type": "stream",
     "text": [
      "\u001b[1m1/1\u001b[0m \u001b[32m━━━━━━━━━━━━━━━━━━━━\u001b[0m\u001b[37m\u001b[0m \u001b[1m0s\u001b[0m 29ms/step\n",
      "Predicted price for the property: 86864.96\n"
     ]
    }
   ],
   "source": [
    "from sklearn.preprocessing import StandardScaler\n",
    "\n",
    "predicted_price = predict_price(2, 1, 20, 2000, modelo)\n",
    "print(\"Predicted price for the property:\", predicted_price)"
   ]
  },
  {
   "cell_type": "code",
   "execution_count": null,
   "metadata": {},
   "outputs": [],
   "source": []
  }
 ],
 "metadata": {
  "kernelspec": {
   "display_name": "Python 3",
   "language": "python",
   "name": "python3"
  },
  "language_info": {
   "codemirror_mode": {
    "name": "ipython",
    "version": 3
   },
   "file_extension": ".py",
   "mimetype": "text/x-python",
   "name": "python",
   "nbconvert_exporter": "python",
   "pygments_lexer": "ipython3",
   "version": "3.12.2"
  }
 },
 "nbformat": 4,
 "nbformat_minor": 2
}
